{
  "nbformat": 4,
  "nbformat_minor": 0,
  "metadata": {
    "colab": {
      "provenance": [],
      "authorship_tag": "ABX9TyNGeqNJhcTO86ivLiZS3/U6",
      "include_colab_link": true
    },
    "kernelspec": {
      "name": "python3",
      "display_name": "Python 3"
    },
    "language_info": {
      "name": "python"
    }
  },
  "cells": [
    {
      "cell_type": "markdown",
      "metadata": {
        "id": "view-in-github",
        "colab_type": "text"
      },
      "source": [
        "<a href=\"https://colab.research.google.com/github/nbeaudoin/PyTorch-marathon/blob/main/PyTorch_workflow.ipynb\" target=\"_parent\"><img src=\"https://colab.research.google.com/assets/colab-badge.svg\" alt=\"Open In Colab\"/></a>"
      ]
    },
    {
      "cell_type": "code",
      "execution_count": 2,
      "metadata": {
        "colab": {
          "base_uri": "https://localhost:8080/"
        },
        "id": "01_QEA3gUMsB",
        "outputId": "52408e5b-24bb-4441-9672-c065790cbbd9"
      },
      "outputs": [
        {
          "output_type": "execute_result",
          "data": {
            "text/plain": [
              "{1: 'data (prepare and load)',\n",
              " 2: 'build model',\n",
              " 3: 'fitting the model to data (training)',\n",
              " 4: 'making predictions and evaluating a model (inference)',\n",
              " 5: 'saving and loading a model',\n",
              " 6: 'putting it all together'}"
            ]
          },
          "metadata": {},
          "execution_count": 2
        }
      ],
      "source": [
        "what_were_covering = {1: \"data (prepare and load)\",\n",
        "    2: \"build model\",\n",
        "    3: \"fitting the model to data (training)\",\n",
        "    4: \"making predictions and evaluating a model (inference)\",\n",
        "    5: \"saving and loading a model\",\n",
        "    6: \"putting it all together\"\n",
        "}\n",
        "\n",
        "what_were_covering"
      ]
    },
    {
      "cell_type": "code",
      "source": [
        "import torch\n",
        "from torch import nn  ## nn contains all neural net building blocks\n",
        "import matplotlib.pyplot as plt\n",
        "\n",
        "# Check PyTorch version\n",
        "torch.__version__"
      ],
      "metadata": {
        "colab": {
          "base_uri": "https://localhost:8080/",
          "height": 36
        },
        "id": "W1wBcEXvW_q8",
        "outputId": "98440a8f-2da3-440d-9ea5-265fbc6dad8b"
      },
      "execution_count": 24,
      "outputs": [
        {
          "output_type": "execute_result",
          "data": {
            "text/plain": [
              "'2.1.0+cu118'"
            ],
            "application/vnd.google.colaboratory.intrinsic+json": {
              "type": "string"
            }
          },
          "metadata": {},
          "execution_count": 24
        }
      ]
    },
    {
      "cell_type": "markdown",
      "source": [
        "## 1. Data (preparing and loading)\n",
        "\n",
        "Machine learning is a game of two parts:\n",
        "1. Get data into a numerical represetation\n",
        "2. Build a model to learn patterns in that numerical representation\n",
        "\n",
        "To showcase this, let's create known data using the linear regression formula\n",
        "\n",
        "We'll use a linear regression formula to make a straight line with known **paramaters**"
      ],
      "metadata": {
        "id": "RGyb8DqLXvX2"
      }
    },
    {
      "cell_type": "code",
      "source": [
        "# Create *known* parameters\n",
        "weight = 0.7\n",
        "bias = 0.3\n",
        "\n",
        "# Create\n",
        "start = 0\n",
        "end = 1\n",
        "step = 0.02\n",
        "X = torch.arange(start, end, step).unsqueeze(dim=1)\n",
        "y = weight * X + bias\n",
        "\n",
        "X[:10], y[:10]"
      ],
      "metadata": {
        "colab": {
          "base_uri": "https://localhost:8080/"
        },
        "id": "ipu-hb5zXOa2",
        "outputId": "a7c532c6-2581-4569-e6fe-b36a23e5cecf"
      },
      "execution_count": 9,
      "outputs": [
        {
          "output_type": "execute_result",
          "data": {
            "text/plain": [
              "(tensor([[0.0000],\n",
              "         [0.0200],\n",
              "         [0.0400],\n",
              "         [0.0600],\n",
              "         [0.0800],\n",
              "         [0.1000],\n",
              "         [0.1200],\n",
              "         [0.1400],\n",
              "         [0.1600],\n",
              "         [0.1800]]),\n",
              " tensor([[0.3000],\n",
              "         [0.3140],\n",
              "         [0.3280],\n",
              "         [0.3420],\n",
              "         [0.3560],\n",
              "         [0.3700],\n",
              "         [0.3840],\n",
              "         [0.3980],\n",
              "         [0.4120],\n",
              "         [0.4260]]))"
            ]
          },
          "metadata": {},
          "execution_count": 9
        }
      ]
    },
    {
      "cell_type": "code",
      "source": [
        "len(X), len(y)"
      ],
      "metadata": {
        "colab": {
          "base_uri": "https://localhost:8080/"
        },
        "id": "kGWfV2s5elyZ",
        "outputId": "0db3dc72-1fa1-4aa6-cc01-50633c040534"
      },
      "execution_count": 10,
      "outputs": [
        {
          "output_type": "execute_result",
          "data": {
            "text/plain": [
              "(50, 50)"
            ]
          },
          "metadata": {},
          "execution_count": 10
        }
      ]
    },
    {
      "cell_type": "markdown",
      "source": [
        "### Splitting data into train and test sets"
      ],
      "metadata": {
        "id": "GyZ24c1saiM3"
      }
    },
    {
      "cell_type": "code",
      "source": [
        "# Create a train/test split\n",
        "train_split = int(0.8 * len(X))\n",
        "X_train, y_train = X[:train_split], y[:train_split]\n",
        "X_test, y_test = X[train_split:], y[train_split:]\n",
        "\n",
        "len(X_train), len(y_train), len(X_test), len(y_test)"
      ],
      "metadata": {
        "colab": {
          "base_uri": "https://localhost:8080/"
        },
        "id": "nx52iZhve-MG",
        "outputId": "081c0501-fd04-4bfc-ecd3-8c8b37a14454"
      },
      "execution_count": 11,
      "outputs": [
        {
          "output_type": "execute_result",
          "data": {
            "text/plain": [
              "(40, 40, 10, 10)"
            ]
          },
          "metadata": {},
          "execution_count": 11
        }
      ]
    },
    {
      "cell_type": "code",
      "source": [
        "### Visualize!\n",
        "\n",
        "def plot_predictions(train_data=X_train,\n",
        "                     train_labels=y_train,\n",
        "                     test_data=X_test,\n",
        "                     test_labels=y_test,\n",
        "                     predictions=None):\n",
        "  \"\"\"\n",
        "  Plots training data, test data and compares predictions\n",
        "  \"\"\"\n",
        "\n",
        "  plt.figure(figsize=(10, 7))\n",
        "\n",
        "  # Plot training data in blue\n",
        "  plt.scatter(train_data, train_labels, c=\"b\", s=4, label=\"Training_data\")\n",
        "\n",
        "  # Plot test data in green\n",
        "  plt.scatter(test_data, test_labels, c=\"g\", s=4, label=\"Testing data\")\n",
        "\n",
        "  # Are there predictions?\n",
        "  if predictions is not None:\n",
        "    # Plot preds if they exist\n",
        "    plt.scatter(test_data, predictions, c=\"r\", s=4, label=predictions)\n",
        "\n",
        "    # SHow the legned\n",
        "    plt.legend(prop={\"size\": 14});"
      ],
      "metadata": {
        "id": "1NhEeFYdcIfi"
      },
      "execution_count": 12,
      "outputs": []
    },
    {
      "cell_type": "code",
      "source": [
        "plot_predictions()"
      ],
      "metadata": {
        "colab": {
          "base_uri": "https://localhost:8080/",
          "height": 315
        },
        "id": "nGRw26WogGWp",
        "outputId": "8012f498-42c1-4577-f086-91f1976f11de"
      },
      "execution_count": 13,
      "outputs": [
        {
          "output_type": "error",
          "ename": "NameError",
          "evalue": "ignored",
          "traceback": [
            "\u001b[0;31m---------------------------------------------------------------------------\u001b[0m",
            "\u001b[0;31mNameError\u001b[0m                                 Traceback (most recent call last)",
            "\u001b[0;32m<ipython-input-13-48fab58fa37f>\u001b[0m in \u001b[0;36m<cell line: 1>\u001b[0;34m()\u001b[0m\n\u001b[0;32m----> 1\u001b[0;31m \u001b[0mplot_predictions\u001b[0m\u001b[0;34m(\u001b[0m\u001b[0;34m)\u001b[0m\u001b[0;34m\u001b[0m\u001b[0;34m\u001b[0m\u001b[0m\n\u001b[0m",
            "\u001b[0;32m<ipython-input-12-5be6667bfa89>\u001b[0m in \u001b[0;36mplot_predictions\u001b[0;34m(train_data, train_labels, test_data, test_labels, predictions)\u001b[0m\n\u001b[1;32m     10\u001b[0m   \"\"\"\n\u001b[1;32m     11\u001b[0m \u001b[0;34m\u001b[0m\u001b[0m\n\u001b[0;32m---> 12\u001b[0;31m   \u001b[0mplt\u001b[0m\u001b[0;34m.\u001b[0m\u001b[0mfigure\u001b[0m\u001b[0;34m(\u001b[0m\u001b[0mfigsize\u001b[0m\u001b[0;34m=\u001b[0m\u001b[0;34m(\u001b[0m\u001b[0;36m10\u001b[0m\u001b[0;34m,\u001b[0m \u001b[0;36m7\u001b[0m\u001b[0;34m)\u001b[0m\u001b[0;34m)\u001b[0m\u001b[0;34m\u001b[0m\u001b[0;34m\u001b[0m\u001b[0m\n\u001b[0m\u001b[1;32m     13\u001b[0m \u001b[0;34m\u001b[0m\u001b[0m\n\u001b[1;32m     14\u001b[0m   \u001b[0;31m# Plot training data in blue\u001b[0m\u001b[0;34m\u001b[0m\u001b[0;34m\u001b[0m\u001b[0m\n",
            "\u001b[0;31mNameError\u001b[0m: name 'plt' is not defined"
          ]
        }
      ]
    },
    {
      "cell_type": "markdown",
      "source": [
        "### 2. Build model"
      ],
      "metadata": {
        "id": "18VfDbGUk9ZB"
      }
    },
    {
      "cell_type": "markdown",
      "source": [
        "Goal is to start with random numbers and update those numbers to learn the pattern.\n",
        "\n",
        "What our model does:\n",
        "* Start with random values (weight & bias)\n",
        "* Look at training data and adjust the random values to better represent (or get closer to) the ideal values\n",
        "\n",
        "How does it do so?\n",
        "\n",
        "Through two main algos:\n",
        "1. Gradient decsent -> https://www.youtube.com/watch?v=IHZwWFHWa-w\n",
        "2. Backpropogration -> See above for series ^^^"
      ],
      "metadata": {
        "id": "aLDuS2zIobGk"
      }
    },
    {
      "cell_type": "code",
      "source": [
        "import torch\n",
        "from torch import nn\n",
        "\n",
        "# Create linear regression model class\n",
        "class LinearRegressionModel(nn.Module):  ## <- almost everything in PyTorch inherits from nn.module\n",
        "  def __init__(self):\n",
        "    super().__init__()   ## calls from the parent class\n",
        "    self.weights = nn.Parameter(torch.randn(1,\n",
        "                                            requires_grad=True,\n",
        "                                            dtype=torch.float32))   ## float32 is default for PyTorch\n",
        "\n",
        "\n",
        "    self.bias = nn.Parameter(torch.rand(1,\n",
        "                                        requires_grad=True,\n",
        "                                        dtype=torch.float))\n",
        "\n",
        "    # Forward method to define the computation in the model\n",
        "    def forward(self, x: torch.Tensor) ## \"x\" is the input data\n",
        "      return self.weights * x + self.bias   ## this is the linear regression formula"
      ],
      "metadata": {
        "colab": {
          "base_uri": "https://localhost:8080/",
          "height": 141
        },
        "id": "u0UoIOtzgKay",
        "outputId": "57eb7b5e-71e7-4590-a1db-217b3aaf198e"
      },
      "execution_count": 14,
      "outputs": [
        {
          "output_type": "error",
          "ename": "SyntaxError",
          "evalue": "ignored",
          "traceback": [
            "\u001b[0;36m  File \u001b[0;32m\"<ipython-input-14-a789dd32db2c>\"\u001b[0;36m, line \u001b[0;32m18\u001b[0m\n\u001b[0;31m    def forward(self, x: torch.Tensor) ## \"x\" is the input data\u001b[0m\n\u001b[0m                                       ^\u001b[0m\n\u001b[0;31mSyntaxError\u001b[0m\u001b[0;31m:\u001b[0m expected ':'\n"
          ]
        }
      ]
    },
    {
      "cell_type": "markdown",
      "source": [
        "### PyTorch model building essentials\n",
        "\n",
        "* torch.nn: All building blocks for computational graphs\n",
        "* torch.nn.Parameter: These will normally be set for us\n",
        "* torch.nn.Module: Base class for all neural network moduels. If you subsclass it, you should overwrite forward()\n",
        "* torch.optim: Optimizers help with gradient descent\n",
        "* def forward() - All nn.Module subsclasses requires you to overwrite forward(), this method defines what happens in the forward computation\n",
        "\n",
        "### Checking the contents of our PyTorch model\n",
        "\n",
        "Now we've created a model let's see what's inside.\n",
        "\n",
        "We can check out what is inside our model using `.parameters()`"
      ],
      "metadata": {
        "id": "UN1X6ols4rX5"
      }
    },
    {
      "cell_type": "code",
      "source": [
        "torch.manual_seed(42)\n",
        "torch.randn(1)"
      ],
      "metadata": {
        "colab": {
          "base_uri": "https://localhost:8080/"
        },
        "id": "gT4Itkd7BQxx",
        "outputId": "3b754c0d-afa4-424e-a457-feec67570f46"
      },
      "execution_count": 15,
      "outputs": [
        {
          "output_type": "execute_result",
          "data": {
            "text/plain": [
              "tensor([0.3367])"
            ]
          },
          "metadata": {},
          "execution_count": 15
        }
      ]
    },
    {
      "cell_type": "code",
      "source": [
        "# Create an instance of the model (this is a subclass of nn.Module)\n",
        "model_0 = LinearRegressionModel()\n",
        "\n",
        "# Check out the parameters\n",
        "list(model_0.parameters())"
      ],
      "metadata": {
        "colab": {
          "base_uri": "https://localhost:8080/"
        },
        "id": "BpB7RwPj4qnS",
        "outputId": "ff328be5-032e-41bd-91cb-f52396b1c0f9"
      },
      "execution_count": 16,
      "outputs": [
        {
          "output_type": "execute_result",
          "data": {
            "text/plain": [
              "[Parameter containing:\n",
              " tensor([0.1288], requires_grad=True),\n",
              " Parameter containing:\n",
              " tensor([0.3904], requires_grad=True)]"
            ]
          },
          "metadata": {},
          "execution_count": 16
        }
      ]
    },
    {
      "cell_type": "code",
      "source": [
        "# List named parameters\n",
        "model_0.state_dict()"
      ],
      "metadata": {
        "colab": {
          "base_uri": "https://localhost:8080/"
        },
        "id": "iORQuyrjAeO5",
        "outputId": "87856934-db5a-4f11-c217-ee09cddf6fa6"
      },
      "execution_count": 17,
      "outputs": [
        {
          "output_type": "execute_result",
          "data": {
            "text/plain": [
              "OrderedDict([('weights', tensor([0.1288])), ('bias', tensor([0.3904]))])"
            ]
          },
          "metadata": {},
          "execution_count": 17
        }
      ]
    },
    {
      "cell_type": "code",
      "source": [
        "weight, bias"
      ],
      "metadata": {
        "colab": {
          "base_uri": "https://localhost:8080/"
        },
        "id": "qCbjiUKDB2hB",
        "outputId": "11c68b67-e100-4d11-da36-4c80445b49ca"
      },
      "execution_count": 18,
      "outputs": [
        {
          "output_type": "execute_result",
          "data": {
            "text/plain": [
              "(0.7, 0.3)"
            ]
          },
          "metadata": {},
          "execution_count": 18
        }
      ]
    },
    {
      "cell_type": "markdown",
      "source": [
        "The closer we can get these two values to our original values, the better our model will be. Beyond this simple case, we won't know what these values are."
      ],
      "metadata": {
        "id": "ple3eg1XCeHr"
      }
    },
    {
      "cell_type": "markdown",
      "source": [
        "### Making prediction using `torch.inference_mode()\n",
        "\n",
        "To check out model's predictive power let's see how well it predicts `y_test` based on `X_test`\n",
        "\n",
        "When we pass our data through our model, it's going to run it thorugh our forward method."
      ],
      "metadata": {
        "id": "a7S-M7TkDRwn"
      }
    },
    {
      "cell_type": "markdown",
      "source": [
        "**Classes**: In Python, the `with` statement is used to simplify resource management, particularly when working with external resources like files or network connections. When used with classes, it typically involves using a special method called __enter__ to set up the resource and __exit__ to tear it down.\n",
        "\n",
        "The with statement ensures that the __exit__ method is called even if an exception is raised during the execution of the code inside the with block. This is commonly referred to as a context manager."
      ],
      "metadata": {
        "id": "mlYr-6lzDv9Y"
      }
    },
    {
      "cell_type": "code",
      "source": [
        "X_test, y_test"
      ],
      "metadata": {
        "colab": {
          "base_uri": "https://localhost:8080/"
        },
        "id": "rqfX3ymsD8ib",
        "outputId": "2313c850-6fb0-4d89-8540-37950fb7c95a"
      },
      "execution_count": 19,
      "outputs": [
        {
          "output_type": "execute_result",
          "data": {
            "text/plain": [
              "(tensor([[0.8000],\n",
              "         [0.8200],\n",
              "         [0.8400],\n",
              "         [0.8600],\n",
              "         [0.8800],\n",
              "         [0.9000],\n",
              "         [0.9200],\n",
              "         [0.9400],\n",
              "         [0.9600],\n",
              "         [0.9800]]),\n",
              " tensor([[0.8600],\n",
              "         [0.8740],\n",
              "         [0.8880],\n",
              "         [0.9020],\n",
              "         [0.9160],\n",
              "         [0.9300],\n",
              "         [0.9440],\n",
              "         [0.9580],\n",
              "         [0.9720],\n",
              "         [0.9860]]))"
            ]
          },
          "metadata": {},
          "execution_count": 19
        }
      ]
    },
    {
      "cell_type": "code",
      "source": [
        "# Make predictions with model\n",
        "\n",
        "with torch.inference_mode():\n",
        "  y_preds = model_0(X_test)\n",
        "\n",
        "y_preds"
      ],
      "metadata": {
        "colab": {
          "base_uri": "https://localhost:8080/"
        },
        "id": "LpnrGxC-CaBK",
        "outputId": "0e8e10e6-7e33-416f-a136-263a99e90939"
      },
      "execution_count": 20,
      "outputs": [
        {
          "output_type": "execute_result",
          "data": {
            "text/plain": [
              "tensor([[0.4935],\n",
              "        [0.4961],\n",
              "        [0.4986],\n",
              "        [0.5012],\n",
              "        [0.5038],\n",
              "        [0.5064],\n",
              "        [0.5090],\n",
              "        [0.5115],\n",
              "        [0.5141],\n",
              "        [0.5167]])"
            ]
          },
          "metadata": {},
          "execution_count": 20
        }
      ]
    },
    {
      "cell_type": "markdown",
      "source": [
        "This error happens often ^^^\n",
        "\n",
        "Try changing the spacing\n",
        "\n",
        "You can go into Settings to \"show line numbers\""
      ],
      "metadata": {
        "id": "6QKGHy4NEPRG"
      }
    },
    {
      "cell_type": "code",
      "source": [
        "import torch\n",
        "from torch import nn\n",
        "\n",
        "# Create linear regression model class\n",
        "class LinearRegressionModel(nn.Module):  ## <- almost everything in PyTorch inherits from nn.module\n",
        "  def __init__(self):\n",
        "    super().__init__()   ## calls from the parent class\n",
        "    self.weights = nn.Parameter(torch.randn(1,\n",
        "                                            requires_grad=True,\n",
        "                                            dtype=torch.float32))   ## float32 is default for PyTorch\n",
        "\n",
        "\n",
        "    self.bias = nn.Parameter(torch.rand(1,\n",
        "                                        requires_grad=True,\n",
        "                                        dtype=torch.float))\n",
        "\n",
        "  # Forward method to define the computation in the model\n",
        "  def forward(self, x: torch.Tensor) -> torch.Tensor:    ## \"x\" is the input data\n",
        "    return self.weights * x + self.bias   ## this is the linear regression formula"
      ],
      "metadata": {
        "id": "5ommy_MeD6x0"
      },
      "execution_count": 21,
      "outputs": []
    },
    {
      "cell_type": "code",
      "source": [
        "# Make predictions with model\n",
        "model_0 = LinearRegressionModel()\n",
        "\n",
        "with torch.inference_mode():\n",
        "  y_preds = model_0(X_test)\n",
        "\n",
        "y_preds"
      ],
      "metadata": {
        "colab": {
          "base_uri": "https://localhost:8080/"
        },
        "id": "76aTpzKKEeO8",
        "outputId": "1eaaabdf-e893-4ce9-a473-f2d60588a3f4"
      },
      "execution_count": 22,
      "outputs": [
        {
          "output_type": "execute_result",
          "data": {
            "text/plain": [
              "tensor([[0.3938],\n",
              "        [0.4003],\n",
              "        [0.4068],\n",
              "        [0.4133],\n",
              "        [0.4198],\n",
              "        [0.4264],\n",
              "        [0.4329],\n",
              "        [0.4394],\n",
              "        [0.4459],\n",
              "        [0.4524]])"
            ]
          },
          "metadata": {},
          "execution_count": 22
        }
      ]
    },
    {
      "cell_type": "markdown",
      "source": [
        "Notice that there are no gradients being tracked. More on this in a bit."
      ],
      "metadata": {
        "id": "gNbZzjbeJexy"
      }
    },
    {
      "cell_type": "code",
      "source": [
        "plot_predictions(predictions=y_preds)"
      ],
      "metadata": {
        "colab": {
          "base_uri": "https://localhost:8080/",
          "height": 599
        },
        "id": "szmC7TA7FEal",
        "outputId": "21224caa-9336-4d8c-aa58-96aefbdcb87e"
      },
      "execution_count": 25,
      "outputs": [
        {
          "output_type": "display_data",
          "data": {
            "text/plain": [
              "<Figure size 1000x700 with 1 Axes>"
            ],
            "image/png": "[encoded data removed]"
          },
          "metadata": {}
        }
      ]
    },
    {
      "cell_type": "markdown",
      "source": [
        "Because iour model is initialized with random parameters, the output is pretty random.\n",
        "\n",
        "`inference_model()` makes predictions"
      ],
      "metadata": {
        "id": "HkM2G2OGIbMN"
      }
    },
    {
      "cell_type": "code",
      "source": [
        "### You can do this as well without inference_mode()\n",
        "y_preds = model_0(X_test)\n",
        "y_preds\n",
        "\n",
        "### Check out the gradient that is being tracked"
      ],
      "metadata": {
        "colab": {
          "base_uri": "https://localhost:8080/"
        },
        "id": "xnnpvyTRIzcr",
        "outputId": "6d8c9bef-bcd5-453b-e94f-c7fbf83e5a1b"
      },
      "execution_count": 30,
      "outputs": [
        {
          "output_type": "execute_result",
          "data": {
            "text/plain": [
              "tensor([[0.3938],\n",
              "        [0.4003],\n",
              "        [0.4068],\n",
              "        [0.4133],\n",
              "        [0.4198],\n",
              "        [0.4264],\n",
              "        [0.4329],\n",
              "        [0.4394],\n",
              "        [0.4459],\n",
              "        [0.4524]], grad_fn=<AddBackward0>)"
            ]
          },
          "metadata": {},
          "execution_count": 30
        }
      ]
    },
    {
      "cell_type": "markdown",
      "source": [
        " * `inference_mode()` won't have a `grad` function\n",
        " * `inference_mode()` disables all the useful things that we have available during training. This means that PyTorch is keeping track of less data and our predictions will be faster because we are not keeping track of gradients that are being saved to memory\n",
        " * You can do the same thing with `toch.no_grad()` but `inference_mode()` is preferred.\n"
      ],
      "metadata": {
        "id": "xMYZFVzDJD3n"
      }
    },
    {
      "cell_type": "code",
      "source": [
        "### You can use this as well\n",
        "with torch.no_grad():\n",
        "  y_preds = model_0(X_test)\n",
        "\n",
        "y_preds\n",
        "\n",
        "### This is not the preferred way but also works for turning off grads"
      ],
      "metadata": {
        "colab": {
          "base_uri": "https://localhost:8080/"
        },
        "id": "LyILA1OIJCCm",
        "outputId": "c5ca1e4f-663b-4cbe-b957-4896aa207651"
      },
      "execution_count": 32,
      "outputs": [
        {
          "output_type": "execute_result",
          "data": {
            "text/plain": [
              "tensor([[0.3938],\n",
              "        [0.4003],\n",
              "        [0.4068],\n",
              "        [0.4133],\n",
              "        [0.4198],\n",
              "        [0.4264],\n",
              "        [0.4329],\n",
              "        [0.4394],\n",
              "        [0.4459],\n",
              "        [0.4524]])"
            ]
          },
          "metadata": {},
          "execution_count": 32
        }
      ]
    },
    {
      "cell_type": "markdown",
      "source": [
        "## 3. Train model\n",
        "\n",
        "The idea is for our model to move from some unknown parameters to some known parameters.\n",
        "\n",
        "Or in other words from a poor representation of the data to a better representation.\n",
        "\n",
        "One way to measure how poor or how wrong the model's predictions are is to use a loss function.\n",
        "\n",
        "AKA: cost function, loss function, criteria\n",
        "\n",
        "* **Loss function**: A function that can measure how wrong our model's predictions are from the ideal outputs.\n",
        "* **Optimizer**: Takes into account the loss of a model and adjusts the model's parameters (eg weight & bias) to improve the loss function.\n",
        "\n",
        "And specifically for PyTorch, we need:\n",
        "* A training loop\n",
        "* A testing loop"
      ],
      "metadata": {
        "id": "kXZ_KWGAMoRN"
      }
    },
    {
      "cell_type": "code",
      "source": [
        "list(model_0.parameters())"
      ],
      "metadata": {
        "colab": {
          "base_uri": "https://localhost:8080/"
        },
        "id": "uQ-eAbbtJ1fX",
        "outputId": "4379e937-c0ac-4d6b-efa2-48ee1180d27c"
      },
      "execution_count": 36,
      "outputs": [
        {
          "output_type": "execute_result",
          "data": {
            "text/plain": [
              "[Parameter containing:\n",
              " tensor([0.3258], requires_grad=True),\n",
              " Parameter containing:\n",
              " tensor([0.1332], requires_grad=True)]"
            ]
          },
          "metadata": {},
          "execution_count": 36
        }
      ]
    },
    {
      "cell_type": "code",
      "source": [
        "model_0.state_dict()"
      ],
      "metadata": {
        "colab": {
          "base_uri": "https://localhost:8080/"
        },
        "id": "xlnBMWQfN_f3",
        "outputId": "152d08b3-99af-4e8c-a837-268b108b05fe"
      },
      "execution_count": 39,
      "outputs": [
        {
          "output_type": "execute_result",
          "data": {
            "text/plain": [
              "OrderedDict([('weights', tensor([0.3258])), ('bias', tensor([0.1332]))])"
            ]
          },
          "metadata": {},
          "execution_count": 39
        }
      ]
    },
    {
      "cell_type": "code",
      "source": [
        "# Setup a loss function\n",
        "loss_fun = nn.L1Loss()  ## MAE\n",
        "\n",
        "# Setup an optimizer (stochastic gradient descent)\n",
        "optimizer = torch.optim.SGD(params=model_0.parameters(), ## what params should I optimize?\n",
        "                            lr=0.01)  ## default=0.1"
      ],
      "metadata": {
        "id": "6bjlIe23OGeb"
      },
      "execution_count": null,
      "outputs": []
    },
    {
      "cell_type": "markdown",
      "source": [
        "Starts by randomly assigning these values"
      ],
      "metadata": {
        "id": "BFcW6mxEWhHp"
      }
    },
    {
      "cell_type": "markdown",
      "source": [
        "### Building a training (and testing) loop in PyTorch\n",
        "\n",
        "A couple of things we need in a training loop:\n",
        "0. Loop through the data\n",
        "1. Forward pass (this involves data moving through our model's `forward()` functions) - also called forwrd propogation - make predictions on data\n",
        "2. Calculate the loss (compare forward pass predictions to ground truth labels)\n",
        "3. Optimizer zero grad\n",
        "4. Loss backward - the gradients of each of the gradients of the parameters of our model with respect to the loss (**backpropagation**)\n",
        "5. Optimizer step - use the optimizer to adjust our parameters to improve the loss (**gradient descent**)\n"
      ],
      "metadata": {
        "id": "keiKVKMXZE7z"
      }
    },
    {
      "cell_type": "code",
      "source": [],
      "metadata": {
        "id": "zFeGabDCZEoN"
      },
      "execution_count": null,
      "outputs": []
    }
  ]
}