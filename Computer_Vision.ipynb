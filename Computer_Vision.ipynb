{
  "nbformat": 4,
  "nbformat_minor": 0,
  "metadata": {
    "colab": {
      "provenance": [],
      "authorship_tag": "ABX9TyNbeGZRHHXCPz1eQm7CWKN2",
      "include_colab_link": true
    },
    "kernelspec": {
      "name": "python3",
      "display_name": "Python 3"
    },
    "language_info": {
      "name": "python"
    }
  },
  "cells": [
    {
      "cell_type": "markdown",
      "metadata": {
        "id": "view-in-github",
        "colab_type": "text"
      },
      "source": [
        "<a href=\"https://colab.research.google.com/github/nbeaudoin/PyTorch-marathon/blob/main/Computer_Vision.ipynb\" target=\"_parent\"><img src=\"https://colab.research.google.com/assets/colab-badge.svg\" alt=\"Open In Colab\"/></a>"
      ]
    },
    {
      "cell_type": "code",
      "execution_count": null,
      "metadata": {
        "id": "NyOIqEkRAZOw"
      },
      "outputs": [],
      "source": [
        "## Computer vision libraries in python\n",
        "\n",
        "* `tochvision` - base\n",
        "* `torchvision.datasets` - get datasets adn data loading functions for computer vision\n",
        "* `torchvision.models` - get pretrained computer vision models that you can leverage for your CV problems\n",
        "* `tochvision.transforms` - functions for manipulating your vision data (images)\n",
        "* `toch.utils.data.Dataset` - Create your own datasets\n",
        "* `torch.utils.data.DataLoader`` - Python iterable over a dataset"
      ]
    },
    {
      "cell_type": "markdown",
      "source": [],
      "metadata": {
        "id": "h6awniPNDKJB"
      }
    }
  ]
}